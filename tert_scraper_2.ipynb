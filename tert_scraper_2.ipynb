{
 "cells": [
  {
   "cell_type": "code",
   "execution_count": 1,
   "metadata": {},
   "outputs": [],
   "source": [
    "import scrapy\n",
    "from scrapy.crawler import CrawlerProcess\n",
    "import requests\n",
    "from datetime import datetime"
   ]
  },
  {
   "cell_type": "code",
   "execution_count": 2,
   "metadata": {},
   "outputs": [],
   "source": [
    "r = requests.get(\"https://www.tert.am/am/news/politics/1\")\n",
    "sel = scrapy.Selector(text=r.text)"
   ]
  },
  {
   "cell_type": "code",
   "execution_count": 3,
   "metadata": {},
   "outputs": [
    {
     "data": {
      "text/plain": [
       "['Իրանը տարածաշրջանի կայունության և անվտանգության խարիսխն է, ոչ թե «թավշյա» կամ «գունավոր» հեղաշրջումների երկիր. Ամիր Աբդոլահիան',\n",
       " 'Արցախի ինքնորոշման իրավունքի նարատիվը ամեն գնով պետք է վերականգնել, ու քանի որ Հայաստանի իշխանությունները հրաժարվում են դրանից, դա կարող են անել հենց արցախցիները. Վարդան Օսկանյան',\n",
       " 'Արցախի ցեղասպանությունը կլինի նաև ժողովրդավարական աշխարհի քաղաքականության արդյունք․ Դավիթ Բաբայան',\n",
       " 'Ալիևն ինչ ուզում է տալիս են, Երևանին էլ հերթը կհասնի, եթե այս իշխանությունները մնան․ Տիգրան Թորոսյան (տեսանյութ)',\n",
       " 'Պարգևավճարից չեմ հրաժարվում, օգտվում եմ՝ օգտագործելու տեղեր կան, իսկ ընդդիմությունը լավ չի աշխատում, ճիշտ է պարգևավճար չտալը․ Հովիկ Աղազարյան․ 24news.am',\n",
       " 'Թուրքիայի և Ադրբեջանի ներկայացուցիչները ընդհատել են ԵԽԽՎ-ում Հայկ Մամիջանյանի ելույթը, սակայն ՔՊ-ական պատգամավորների միջամտությունից հետո ելույթը շարունակվել է',\n",
       " 'ՊՆ-ն հերքում է ականի պայթյունից հայ զինծառայողների զոհվելու և վիրավորելու մասին ադրբեջանական տեղեկատվությունը',\n",
       " 'Հատուկ ներկայացուցիչների հանդիպումները Հայաստանում կամ Թուրքիայում անցկացնելու վերաբերյալ որևէ պայմանավորվածություն ձեռք չի բերվել. ՀՀ ԱԳՆ',\n",
       " 'Երևանն ու Բաքուն պայմանավորվել են տարածքային ամբողջականության փոխադարձ ճանաչման շուրջ. սա խաղաղության պայմանագրի հիմքն է. Բայրամով',\n",
       " 'Պետական պահպանության ծառայությունը 2022 թվականի արտադրության հատուկ նշանակության 2 մեքենա է գնում',\n",
       " 'Պուտինը պատասխանել է Մակրոնին',\n",
       " 'ԵԽԽՎ-ն կոչ է արել Եվրախորհրդի անդամ երկրներին «ահաբեկչական հայտարարել ռուսական ներկայիս ռեժիմը»',\n",
       " 'Արցախի համար «կարմիր գիծ» է ցանկացած փորձ, որը կդիտարկի Արցախի ապագան Ադրբեջանի կազմում․ Արթուր Թովմասյանը՝ ԱԽ քարտուղարին',\n",
       " 'ԵԽԽՎ համազեկուցողները Ադրբեջանին կոչ են արել անհապաղ դուրս բերել ուժերը Հայաստանի օկուպացված տարածքներից և ազատ արձակել բոլոր ռազմագերիներին',\n",
       " 'Գործ ունենք ՀՀ հերթական դիվանագիտական ապաշնորհության հետ, ինչն անհասկանալի է դարձնում Լավրովի հետ հանդիպմանը Միրզոյանի պահվածքի վերաբերյալ հրճվանքը․ Լևոն Զուրաբյան']"
      ]
     },
     "execution_count": 3,
     "metadata": {},
     "output_type": "execute_result"
    }
   ],
   "source": [
    "sel.css(\"span.list__title::text\").extract()"
   ]
  },
  {
   "cell_type": "code",
   "execution_count": 4,
   "metadata": {},
   "outputs": [
    {
     "data": {
      "text/plain": [
       "['21:06 • 15.10.22',\n",
       " '19:50 • 15.10.22',\n",
       " '23:01 • 14.10.22',\n",
       " '21:04 • 14.10.22',\n",
       " '20:20 • 14.10.22',\n",
       " '18:00 • 14.10.22',\n",
       " '17:34 • 14.10.22',\n",
       " '16:21 • 14.10.22',\n",
       " '16:20 • 14.10.22',\n",
       " '13:00 • 14.10.22',\n",
       " '12:05 • 14.10.22',\n",
       " '23:27 • 13.10.22',\n",
       " '22:44 • 13.10.22',\n",
       " '21:35 • 13.10.22',\n",
       " '15:55 • 13.10.22']"
      ]
     },
     "execution_count": 4,
     "metadata": {},
     "output_type": "execute_result"
    }
   ],
   "source": [
    "sel.css(\"span.list__date::text\").extract()"
   ]
  },
  {
   "cell_type": "code",
   "execution_count": 5,
   "metadata": {},
   "outputs": [
    {
     "data": {
      "text/plain": [
       "['/am/news/2022/10/15/iran/3851052',\n",
       " '/am/news/2022/10/15/oskanyan/3851034',\n",
       " '/am/news/2022/10/14/Davit-babayan/3850783',\n",
       " '/am/news/2022/10/14/tigran-torosyan/3850542',\n",
       " '/am/news/2022/10/14/aghazaryan/3850709',\n",
       " '/am/news/2022/10/14/mamijanyan/3850682',\n",
       " '/am/news/2022/10/14/pn-akan/3850672',\n",
       " '/am/news/2022/10/14/agn-mfa/3850634',\n",
       " '/am/news/2022/10/14/bayramov/3850632',\n",
       " '/am/news/2022/10/14/petakan-pahpanutyan-tsarayutyun/3850512',\n",
       " '/am/news/2022/10/14/putin-macron/3850495',\n",
       " '/am/news/2022/10/13/pace-russia/3850341',\n",
       " '/am/news/2022/10/13/artur-tovmasyan/3850330',\n",
       " '/am/news/2022/10/13/pace-armenia/3850301',\n",
       " '/am/news/2022/10/13/zurabyan/3850135']"
      ]
     },
     "execution_count": 5,
     "metadata": {},
     "output_type": "execute_result"
    }
   ],
   "source": [
    "sel.css(\"a.list__link::attr(href)\").extract()"
   ]
  },
  {
   "cell_type": "code",
   "execution_count": null,
   "metadata": {},
   "outputs": [],
   "source": [
    "titles = []\n",
    "dates = []\n",
    "contents = []\n",
    "\n",
    "class TertCrawler(scrapy.Spider):\n",
    "    name = \"MovsisyansNewsCrawler\"\n",
    "\n",
    "    custom_settings=dict(\n",
    "        DOWNLOAD_DELAY = 0.08\n",
    "    )\n",
    "    \n",
    "    def __init__(self, *args, **kwargs):\n",
    "        super().__init__(*args, **kwargs)\n",
    "        self.domain = \"https://www.tert.am\" \n",
    "        self.scopes = [\n",
    "            # \"/am/news/politics/\",\n",
    "            # \"/am/news/Կորոնավիրուս/\",\n",
    "            # \"/am/news/law/\",\n",
    "            # \"/am/news/business/\",\n",
    "            # \"/am/news/Sports/\",\n",
    "            #\"/am/news/event/\",\n",
    "            # \"/am/news/press-digest/\",\n",
    "            # \"/am/news/culture/\",\n",
    "            \"/life/am/news/fashion/\",\n",
    "            \"/life/am/news/interview/\",\n",
    "            \"/life/am/news/showbiz/\",\n",
    "            \"/life/am/news/entertainment/\",\n",
    "            \"/life/am/news/photo/\",\n",
    "            \"/life/am/news/tv/\",\n",
    "            \"/life/am/news/culture/\"\n",
    "        ]\n",
    "        # infer pages programmatically\n",
    "        self.pages = [76, 28, 373, 286, 15, 14, 7]\n",
    "\n",
    "    def start_requests(self):\n",
    "        urls = [self.scopes[scope_id] + str(page) \n",
    "                for scope_id in range(len(self.scopes)) \n",
    "                for page in range(1, self.pages[scope_id])]\n",
    "        \n",
    "        for url in urls:\n",
    "            yield scrapy.Request(url=self.domain + url, callback=self.parse_page)\n",
    "\n",
    "    def parse_page(self, response):\n",
    "        links = response.css(\"a.list__link::attr(href)\").extract()\n",
    "\n",
    "        for link in links:\n",
    "            yield response.follow(url=link, callback=self.parse_article)\n",
    "\n",
    "\n",
    "\n",
    "    def parse_article(self, response):\n",
    "        title = response.css(\"h1.inner-content__article-title::text\").extract_first()\n",
    "        dt = response.css(\"div.inner-content__article-date::text\").extract_first()\n",
    "        date = datetime.strptime(dt, \"%H:%M • %d.%m.%y\")\n",
    "        content = \" \".join([i.strip().replace(\"\\xa0\", \" \") for i in response.css(\"div#news-content-container p::text\").extract()])\n",
    "        # add link capture\n",
    "\n",
    "        # add better data streaming\n",
    "        titles.append(title)\n",
    "        dates.append(date)\n",
    "        contents.append(content) "
   ]
  }
 ],
 "metadata": {
  "kernelspec": {
   "display_name": "Python 3.9.1 64-bit",
   "language": "python",
   "name": "python3"
  },
  "language_info": {
   "codemirror_mode": {
    "name": "ipython",
    "version": 3
   },
   "file_extension": ".py",
   "mimetype": "text/x-python",
   "name": "python",
   "nbconvert_exporter": "python",
   "pygments_lexer": "ipython3",
   "version": "3.9.1"
  },
  "orig_nbformat": 4,
  "vscode": {
   "interpreter": {
    "hash": "11938c6bc6919ae2720b4d5011047913343b08a43b18698fd82dedb0d4417594"
   }
  }
 },
 "nbformat": 4,
 "nbformat_minor": 2
}
